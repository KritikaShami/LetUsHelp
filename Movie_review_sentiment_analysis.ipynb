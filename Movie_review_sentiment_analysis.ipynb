{
  "nbformat": 4,
  "nbformat_minor": 0,
  "metadata": {
    "kernelspec": {
      "language": "python",
      "display_name": "Python 3",
      "name": "python3"
    },
    "language_info": {
      "name": "python",
      "version": "3.7.9",
      "mimetype": "text/x-python",
      "codemirror_mode": {
        "name": "ipython",
        "version": 3
      },
      "pygments_lexer": "ipython3",
      "nbconvert_exporter": "python",
      "file_extension": ".py"
    },
    "colab": {
      "name": "Movie review sentiment analysis.ipynb",
      "provenance": [],
      "include_colab_link": true
    }
  },
  "cells": [
    {
      "cell_type": "markdown",
      "metadata": {
        "id": "view-in-github",
        "colab_type": "text"
      },
      "source": [
        "<a href=\"https://colab.research.google.com/github/KritikaShami/MachineLearning/blob/main/Movie_review_sentiment_analysis.ipynb\" target=\"_parent\"><img src=\"https://colab.research.google.com/assets/colab-badge.svg\" alt=\"Open In Colab\"/></a>"
      ]
    },
    {
      "cell_type": "code",
      "metadata": {
        "_uuid": "8f2839f25d086af736a60e9eeb907d3b93b6e0e5",
        "_cell_guid": "b1076dfc-b9ad-4769-8c92-a6c4dae69d19",
        "execution": {
          "iopub.status.busy": "2021-07-01T08:07:04.939599Z",
          "iopub.execute_input": "2021-07-01T08:07:04.940079Z",
          "iopub.status.idle": "2021-07-01T08:07:04.945120Z",
          "shell.execute_reply.started": "2021-07-01T08:07:04.939984Z",
          "shell.execute_reply": "2021-07-01T08:07:04.944144Z"
        },
        "trusted": true,
        "id": "g3fZAYgvVDkc"
      },
      "source": [
        "import numpy as np \n",
        "import pandas as pd \n",
        "from sklearn.feature_extraction.text import CountVectorizer\n",
        "from sklearn.naive_bayes import BernoulliNB"
      ],
      "execution_count": null,
      "outputs": []
    },
    {
      "cell_type": "code",
      "metadata": {
        "execution": {
          "iopub.status.busy": "2021-07-01T08:21:31.352722Z",
          "iopub.execute_input": "2021-07-01T08:21:31.353151Z",
          "iopub.status.idle": "2021-07-01T08:21:32.026329Z",
          "shell.execute_reply.started": "2021-07-01T08:21:31.353114Z",
          "shell.execute_reply": "2021-07-01T08:21:32.025517Z"
        },
        "trusted": true,
        "id": "QTw02sn9VDkg",
        "outputId": "8eb80982-6edd-47e0-f230-982abd2b00ec"
      },
      "source": [
        "data=pd.read_csv(r'../input/imdb-dataset-of-50k-movie-reviews/IMDB Dataset.csv')\n",
        "print(data.shape)\n",
        "data.head(10)"
      ],
      "execution_count": null,
      "outputs": [
        {
          "name": "stdout",
          "text": "(50000, 2)\n",
          "output_type": "stream"
        },
        {
          "execution_count": 27,
          "output_type": "execute_result",
          "data": {
            "text/plain": "                                              review sentiment\n0  One of the other reviewers has mentioned that ...  positive\n1  A wonderful little production. <br /><br />The...  positive\n2  I thought this was a wonderful way to spend ti...  positive\n3  Basically there's a family where a little boy ...  negative\n4  Petter Mattei's \"Love in the Time of Money\" is...  positive\n5  Probably my all-time favorite movie, a story o...  positive\n6  I sure would like to see a resurrection of a u...  positive\n7  This show was an amazing, fresh & innovative i...  negative\n8  Encouraged by the positive comments about this...  negative\n9  If you like original gut wrenching laughter yo...  positive",
            "text/html": "<div>\n<style scoped>\n    .dataframe tbody tr th:only-of-type {\n        vertical-align: middle;\n    }\n\n    .dataframe tbody tr th {\n        vertical-align: top;\n    }\n\n    .dataframe thead th {\n        text-align: right;\n    }\n</style>\n<table border=\"1\" class=\"dataframe\">\n  <thead>\n    <tr style=\"text-align: right;\">\n      <th></th>\n      <th>review</th>\n      <th>sentiment</th>\n    </tr>\n  </thead>\n  <tbody>\n    <tr>\n      <th>0</th>\n      <td>One of the other reviewers has mentioned that ...</td>\n      <td>positive</td>\n    </tr>\n    <tr>\n      <th>1</th>\n      <td>A wonderful little production. &lt;br /&gt;&lt;br /&gt;The...</td>\n      <td>positive</td>\n    </tr>\n    <tr>\n      <th>2</th>\n      <td>I thought this was a wonderful way to spend ti...</td>\n      <td>positive</td>\n    </tr>\n    <tr>\n      <th>3</th>\n      <td>Basically there's a family where a little boy ...</td>\n      <td>negative</td>\n    </tr>\n    <tr>\n      <th>4</th>\n      <td>Petter Mattei's \"Love in the Time of Money\" is...</td>\n      <td>positive</td>\n    </tr>\n    <tr>\n      <th>5</th>\n      <td>Probably my all-time favorite movie, a story o...</td>\n      <td>positive</td>\n    </tr>\n    <tr>\n      <th>6</th>\n      <td>I sure would like to see a resurrection of a u...</td>\n      <td>positive</td>\n    </tr>\n    <tr>\n      <th>7</th>\n      <td>This show was an amazing, fresh &amp; innovative i...</td>\n      <td>negative</td>\n    </tr>\n    <tr>\n      <th>8</th>\n      <td>Encouraged by the positive comments about this...</td>\n      <td>negative</td>\n    </tr>\n    <tr>\n      <th>9</th>\n      <td>If you like original gut wrenching laughter yo...</td>\n      <td>positive</td>\n    </tr>\n  </tbody>\n</table>\n</div>"
          },
          "metadata": {}
        }
      ]
    },
    {
      "cell_type": "code",
      "metadata": {
        "execution": {
          "iopub.status.busy": "2021-07-01T08:21:37.246564Z",
          "iopub.execute_input": "2021-07-01T08:21:37.246930Z",
          "iopub.status.idle": "2021-07-01T08:21:37.267495Z",
          "shell.execute_reply.started": "2021-07-01T08:21:37.246901Z",
          "shell.execute_reply": "2021-07-01T08:21:37.266382Z"
        },
        "trusted": true,
        "id": "SKb463-eVDki",
        "outputId": "d8d554f1-8fdb-40e8-da65-e6252aee751a"
      },
      "source": [
        "data['sentiment'].value_counts()"
      ],
      "execution_count": null,
      "outputs": [
        {
          "execution_count": 28,
          "output_type": "execute_result",
          "data": {
            "text/plain": "negative    25000\npositive    25000\nName: sentiment, dtype: int64"
          },
          "metadata": {}
        }
      ]
    },
    {
      "cell_type": "code",
      "metadata": {
        "execution": {
          "iopub.status.busy": "2021-07-01T08:21:42.216544Z",
          "iopub.execute_input": "2021-07-01T08:21:42.216908Z",
          "iopub.status.idle": "2021-07-01T08:21:42.256334Z",
          "shell.execute_reply.started": "2021-07-01T08:21:42.216877Z",
          "shell.execute_reply": "2021-07-01T08:21:42.255259Z"
        },
        "trusted": true,
        "id": "sbYv_3PoVDkj"
      },
      "source": [
        "data.sentiment=data.sentiment.apply(lambda x: 0 if x=='negative' else 1)"
      ],
      "execution_count": null,
      "outputs": []
    },
    {
      "cell_type": "code",
      "metadata": {
        "execution": {
          "iopub.status.busy": "2021-07-01T08:21:49.643355Z",
          "iopub.execute_input": "2021-07-01T08:21:49.643775Z",
          "iopub.status.idle": "2021-07-01T08:21:49.655432Z",
          "shell.execute_reply.started": "2021-07-01T08:21:49.643742Z",
          "shell.execute_reply": "2021-07-01T08:21:49.654252Z"
        },
        "trusted": true,
        "id": "JP6ln55yVDkk",
        "outputId": "ae213c1a-5b7b-48d3-b425-f8b648d962ad"
      },
      "source": [
        "data.head(10)"
      ],
      "execution_count": null,
      "outputs": [
        {
          "execution_count": 30,
          "output_type": "execute_result",
          "data": {
            "text/plain": "                                              review  sentiment\n0  One of the other reviewers has mentioned that ...          1\n1  A wonderful little production. <br /><br />The...          1\n2  I thought this was a wonderful way to spend ti...          1\n3  Basically there's a family where a little boy ...          0\n4  Petter Mattei's \"Love in the Time of Money\" is...          1\n5  Probably my all-time favorite movie, a story o...          1\n6  I sure would like to see a resurrection of a u...          1\n7  This show was an amazing, fresh & innovative i...          0\n8  Encouraged by the positive comments about this...          0\n9  If you like original gut wrenching laughter yo...          1",
            "text/html": "<div>\n<style scoped>\n    .dataframe tbody tr th:only-of-type {\n        vertical-align: middle;\n    }\n\n    .dataframe tbody tr th {\n        vertical-align: top;\n    }\n\n    .dataframe thead th {\n        text-align: right;\n    }\n</style>\n<table border=\"1\" class=\"dataframe\">\n  <thead>\n    <tr style=\"text-align: right;\">\n      <th></th>\n      <th>review</th>\n      <th>sentiment</th>\n    </tr>\n  </thead>\n  <tbody>\n    <tr>\n      <th>0</th>\n      <td>One of the other reviewers has mentioned that ...</td>\n      <td>1</td>\n    </tr>\n    <tr>\n      <th>1</th>\n      <td>A wonderful little production. &lt;br /&gt;&lt;br /&gt;The...</td>\n      <td>1</td>\n    </tr>\n    <tr>\n      <th>2</th>\n      <td>I thought this was a wonderful way to spend ti...</td>\n      <td>1</td>\n    </tr>\n    <tr>\n      <th>3</th>\n      <td>Basically there's a family where a little boy ...</td>\n      <td>0</td>\n    </tr>\n    <tr>\n      <th>4</th>\n      <td>Petter Mattei's \"Love in the Time of Money\" is...</td>\n      <td>1</td>\n    </tr>\n    <tr>\n      <th>5</th>\n      <td>Probably my all-time favorite movie, a story o...</td>\n      <td>1</td>\n    </tr>\n    <tr>\n      <th>6</th>\n      <td>I sure would like to see a resurrection of a u...</td>\n      <td>1</td>\n    </tr>\n    <tr>\n      <th>7</th>\n      <td>This show was an amazing, fresh &amp; innovative i...</td>\n      <td>0</td>\n    </tr>\n    <tr>\n      <th>8</th>\n      <td>Encouraged by the positive comments about this...</td>\n      <td>0</td>\n    </tr>\n    <tr>\n      <th>9</th>\n      <td>If you like original gut wrenching laughter yo...</td>\n      <td>1</td>\n    </tr>\n  </tbody>\n</table>\n</div>"
          },
          "metadata": {}
        }
      ]
    },
    {
      "cell_type": "code",
      "metadata": {
        "execution": {
          "iopub.status.busy": "2021-07-01T08:21:55.446490Z",
          "iopub.execute_input": "2021-07-01T08:21:55.446910Z",
          "iopub.status.idle": "2021-07-01T08:21:55.465107Z",
          "shell.execute_reply.started": "2021-07-01T08:21:55.446877Z",
          "shell.execute_reply": "2021-07-01T08:21:55.464062Z"
        },
        "trusted": true,
        "id": "7B6_-VwCVDkk",
        "outputId": "be50c8a2-b137-42ce-d993-f634c4c40a14"
      },
      "source": [
        "data[data['sentiment']==0]"
      ],
      "execution_count": null,
      "outputs": [
        {
          "execution_count": 31,
          "output_type": "execute_result",
          "data": {
            "text/plain": "                                                  review  sentiment\n3      Basically there's a family where a little boy ...          0\n7      This show was an amazing, fresh & innovative i...          0\n8      Encouraged by the positive comments about this...          0\n10     Phil the Alien is one of those quirky films wh...          0\n11     I saw this movie when I was about 12 when it c...          0\n...                                                  ...        ...\n49994  This is your typical junk comedy.<br /><br />T...          0\n49996  Bad plot, bad dialogue, bad acting, idiotic di...          0\n49997  I am a Catholic taught in parochial elementary...          0\n49998  I'm going to have to disagree with the previou...          0\n49999  No one expects the Star Trek movies to be high...          0\n\n[25000 rows x 2 columns]",
            "text/html": "<div>\n<style scoped>\n    .dataframe tbody tr th:only-of-type {\n        vertical-align: middle;\n    }\n\n    .dataframe tbody tr th {\n        vertical-align: top;\n    }\n\n    .dataframe thead th {\n        text-align: right;\n    }\n</style>\n<table border=\"1\" class=\"dataframe\">\n  <thead>\n    <tr style=\"text-align: right;\">\n      <th></th>\n      <th>review</th>\n      <th>sentiment</th>\n    </tr>\n  </thead>\n  <tbody>\n    <tr>\n      <th>3</th>\n      <td>Basically there's a family where a little boy ...</td>\n      <td>0</td>\n    </tr>\n    <tr>\n      <th>7</th>\n      <td>This show was an amazing, fresh &amp; innovative i...</td>\n      <td>0</td>\n    </tr>\n    <tr>\n      <th>8</th>\n      <td>Encouraged by the positive comments about this...</td>\n      <td>0</td>\n    </tr>\n    <tr>\n      <th>10</th>\n      <td>Phil the Alien is one of those quirky films wh...</td>\n      <td>0</td>\n    </tr>\n    <tr>\n      <th>11</th>\n      <td>I saw this movie when I was about 12 when it c...</td>\n      <td>0</td>\n    </tr>\n    <tr>\n      <th>...</th>\n      <td>...</td>\n      <td>...</td>\n    </tr>\n    <tr>\n      <th>49994</th>\n      <td>This is your typical junk comedy.&lt;br /&gt;&lt;br /&gt;T...</td>\n      <td>0</td>\n    </tr>\n    <tr>\n      <th>49996</th>\n      <td>Bad plot, bad dialogue, bad acting, idiotic di...</td>\n      <td>0</td>\n    </tr>\n    <tr>\n      <th>49997</th>\n      <td>I am a Catholic taught in parochial elementary...</td>\n      <td>0</td>\n    </tr>\n    <tr>\n      <th>49998</th>\n      <td>I'm going to have to disagree with the previou...</td>\n      <td>0</td>\n    </tr>\n    <tr>\n      <th>49999</th>\n      <td>No one expects the Star Trek movies to be high...</td>\n      <td>0</td>\n    </tr>\n  </tbody>\n</table>\n<p>25000 rows × 2 columns</p>\n</div>"
          },
          "metadata": {}
        }
      ]
    },
    {
      "cell_type": "code",
      "metadata": {
        "execution": {
          "iopub.status.busy": "2021-07-01T08:22:01.896690Z",
          "iopub.execute_input": "2021-07-01T08:22:01.897273Z",
          "iopub.status.idle": "2021-07-01T08:22:01.904432Z",
          "shell.execute_reply.started": "2021-07-01T08:22:01.897222Z",
          "shell.execute_reply": "2021-07-01T08:22:01.903606Z"
        },
        "trusted": true,
        "id": "QRUKYrx4VDkl",
        "outputId": "965c0c30-b648-4dab-e089-4ab3f932858b"
      },
      "source": [
        "data['sentiment'].value_counts()"
      ],
      "execution_count": null,
      "outputs": [
        {
          "execution_count": 32,
          "output_type": "execute_result",
          "data": {
            "text/plain": "0    25000\n1    25000\nName: sentiment, dtype: int64"
          },
          "metadata": {}
        }
      ]
    },
    {
      "cell_type": "code",
      "metadata": {
        "execution": {
          "iopub.status.busy": "2021-07-01T08:22:12.569073Z",
          "iopub.execute_input": "2021-07-01T08:22:12.569454Z",
          "iopub.status.idle": "2021-07-01T08:22:12.597032Z",
          "shell.execute_reply.started": "2021-07-01T08:22:12.569408Z",
          "shell.execute_reply": "2021-07-01T08:22:12.596192Z"
        },
        "trusted": true,
        "id": "9wVFlb-eVDkm",
        "outputId": "dd0a38f4-1c52-4ff1-dae2-fabb8a30b219"
      },
      "source": [
        "x = list(data['review'])\n",
        "y = list(data['sentiment'])\n",
        "x[0],y[0]"
      ],
      "execution_count": null,
      "outputs": [
        {
          "execution_count": 34,
          "output_type": "execute_result",
          "data": {
            "text/plain": "(\"One of the other reviewers has mentioned that after watching just 1 Oz episode you'll be hooked. They are right, as this is exactly what happened with me.<br /><br />The first thing that struck me about Oz was its brutality and unflinching scenes of violence, which set in right from the word GO. Trust me, this is not a show for the faint hearted or timid. This show pulls no punches with regards to drugs, sex or violence. Its is hardcore, in the classic use of the word.<br /><br />It is called OZ as that is the nickname given to the Oswald Maximum Security State Penitentary. It focuses mainly on Emerald City, an experimental section of the prison where all the cells have glass fronts and face inwards, so privacy is not high on the agenda. Em City is home to many..Aryans, Muslims, gangstas, Latinos, Christians, Italians, Irish and more....so scuffles, death stares, dodgy dealings and shady agreements are never far away.<br /><br />I would say the main appeal of the show is due to the fact that it goes where other shows wouldn't dare. Forget pretty pictures painted for mainstream audiences, forget charm, forget romance...OZ doesn't mess around. The first episode I ever saw struck me as so nasty it was surreal, I couldn't say I was ready for it, but as I watched more, I developed a taste for Oz, and got accustomed to the high levels of graphic violence. Not just violence, but injustice (crooked guards who'll be sold out for a nickel, inmates who'll kill on order and get away with it, well mannered, middle class inmates being turned into prison bitches due to their lack of street skills or prison experience) Watching Oz, you may become comfortable with what is uncomfortable viewing....thats if you can get in touch with your darker side.\",\n 1)"
          },
          "metadata": {}
        }
      ]
    },
    {
      "cell_type": "code",
      "metadata": {
        "execution": {
          "iopub.status.busy": "2021-07-01T08:22:25.258510Z",
          "iopub.execute_input": "2021-07-01T08:22:25.259002Z",
          "iopub.status.idle": "2021-07-01T08:22:39.279799Z",
          "shell.execute_reply.started": "2021-07-01T08:22:25.258971Z",
          "shell.execute_reply": "2021-07-01T08:22:39.278811Z"
        },
        "trusted": true,
        "id": "tXALsdH2VDkn"
      },
      "source": [
        "count_vectorizer = CountVectorizer(binary=\"true\")\n",
        "x_bow = count_vectorizer.fit_transform(x)"
      ],
      "execution_count": null,
      "outputs": []
    },
    {
      "cell_type": "code",
      "metadata": {
        "execution": {
          "iopub.status.busy": "2021-07-01T08:22:41.427973Z",
          "iopub.execute_input": "2021-07-01T08:22:41.428370Z",
          "iopub.status.idle": "2021-07-01T08:22:41.551580Z",
          "shell.execute_reply.started": "2021-07-01T08:22:41.428333Z",
          "shell.execute_reply": "2021-07-01T08:22:41.550688Z"
        },
        "trusted": true,
        "id": "s7bHBf3IVDko"
      },
      "source": [
        "classifier = BernoulliNB().fit(x_bow, y)"
      ],
      "execution_count": null,
      "outputs": []
    },
    {
      "cell_type": "code",
      "metadata": {
        "execution": {
          "iopub.status.busy": "2021-07-01T08:28:34.455909Z",
          "iopub.execute_input": "2021-07-01T08:28:34.456293Z",
          "iopub.status.idle": "2021-07-01T08:28:34.462202Z",
          "shell.execute_reply.started": "2021-07-01T08:28:34.456258Z",
          "shell.execute_reply": "2021-07-01T08:28:34.461019Z"
        },
        "trusted": true,
        "id": "smO1txFZVDkp"
      },
      "source": [
        "def fit(sentence):\n",
        "    prediction = classifier.predict(count_vectorizer.transform([sentence]))\n",
        "    if(prediction[0] == 1):\n",
        "        print(\"Positive\")\n",
        "    elif (prediction[0] == 0):\n",
        "        print(\"Negative\")"
      ],
      "execution_count": null,
      "outputs": []
    },
    {
      "cell_type": "code",
      "metadata": {
        "execution": {
          "iopub.status.busy": "2021-07-01T08:28:36.061086Z",
          "iopub.execute_input": "2021-07-01T08:28:36.061487Z",
          "iopub.status.idle": "2021-07-01T08:28:36.073837Z",
          "shell.execute_reply.started": "2021-07-01T08:28:36.061452Z",
          "shell.execute_reply": "2021-07-01T08:28:36.072904Z"
        },
        "trusted": true,
        "id": "_zCX0aliVDkp",
        "outputId": "17bbaab5-1ed1-4ae3-8bd9-54d6bc69a742"
      },
      "source": [
        "fit(\"I am having a very good and great day\")"
      ],
      "execution_count": null,
      "outputs": [
        {
          "name": "stdout",
          "text": "Positive\n",
          "output_type": "stream"
        }
      ]
    },
    {
      "cell_type": "code",
      "metadata": {
        "execution": {
          "iopub.status.busy": "2021-07-01T08:28:49.483968Z",
          "iopub.execute_input": "2021-07-01T08:28:49.484335Z",
          "iopub.status.idle": "2021-07-01T08:28:49.495155Z",
          "shell.execute_reply.started": "2021-07-01T08:28:49.484302Z",
          "shell.execute_reply": "2021-07-01T08:28:49.493957Z"
        },
        "trusted": true,
        "id": "spsF3FMtVDkq",
        "outputId": "e47542be-cbef-45dd-b314-696af1629f50"
      },
      "source": [
        "fit(\"This is the bad movie ever!\")"
      ],
      "execution_count": null,
      "outputs": [
        {
          "name": "stdout",
          "text": "Negative\n",
          "output_type": "stream"
        }
      ]
    },
    {
      "cell_type": "code",
      "metadata": {
        "execution": {
          "iopub.status.busy": "2021-07-01T08:30:03.652981Z",
          "iopub.execute_input": "2021-07-01T08:30:03.653523Z",
          "iopub.status.idle": "2021-07-01T08:30:03.664816Z",
          "shell.execute_reply.started": "2021-07-01T08:30:03.653490Z",
          "shell.execute_reply": "2021-07-01T08:30:03.663561Z"
        },
        "trusted": true,
        "id": "rmQNimrJVDkr",
        "outputId": "492269a7-5066-4cd4-8603-b03bd03779d5"
      },
      "source": [
        "fit(\"worst acting\")"
      ],
      "execution_count": null,
      "outputs": [
        {
          "name": "stdout",
          "text": "Negative\n",
          "output_type": "stream"
        }
      ]
    }
  ]
}