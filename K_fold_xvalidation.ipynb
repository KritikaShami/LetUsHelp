{
  "nbformat": 4,
  "nbformat_minor": 0,
  "metadata": {
    "colab": {
      "name": "K-fold_xvalidation.ipynb",
      "provenance": [],
      "authorship_tag": "ABX9TyM5LRcZDInF2SphAavSp/Bm",
      "include_colab_link": true
    },
    "kernelspec": {
      "name": "python3",
      "display_name": "Python 3"
    },
    "language_info": {
      "name": "python"
    }
  },
  "cells": [
    {
      "cell_type": "markdown",
      "metadata": {
        "id": "view-in-github",
        "colab_type": "text"
      },
      "source": [
        "<a href=\"https://colab.research.google.com/github/KritikaShami/MachineLearning/blob/main/K_fold_xvalidation.ipynb\" target=\"_parent\"><img src=\"https://colab.research.google.com/assets/colab-badge.svg\" alt=\"Open In Colab\"/></a>"
      ]
    },
    {
      "cell_type": "code",
      "metadata": {
        "id": "dCch_YJ_oXtg"
      },
      "source": [
        "import numpy as np\n",
        "from sklearn.datasets import load_wine\n",
        "import matplotlib.pyplot as plt\n",
        "wine = load_wine()"
      ],
      "execution_count": null,
      "outputs": []
    },
    {
      "cell_type": "code",
      "metadata": {
        "id": "vBjSJrXTptZH"
      },
      "source": [
        "from sklearn.model_selection import train_test_split\n",
        "X_train, X_test, y_train, y_test = train_test_split(wine.data,wine.target,test_size=0.3)"
      ],
      "execution_count": null,
      "outputs": []
    },
    {
      "cell_type": "code",
      "metadata": {
        "colab": {
          "base_uri": "https://localhost:8080/"
        },
        "id": "ej-ru3mBqAzj",
        "outputId": "1747b18c-bb4c-48f0-bd2b-6015c263175e"
      },
      "source": [
        "print(X_train)"
      ],
      "execution_count": null,
      "outputs": [
        {
          "output_type": "stream",
          "text": [
            "[[1.208e+01 1.130e+00 2.510e+00 ... 1.310e+00 2.720e+00 6.300e+02]\n",
            " [1.327e+01 4.280e+00 2.260e+00 ... 5.900e-01 1.560e+00 8.350e+02]\n",
            " [1.373e+01 4.360e+00 2.260e+00 ... 7.800e-01 1.750e+00 5.200e+02]\n",
            " ...\n",
            " [1.388e+01 1.890e+00 2.590e+00 ... 8.800e-01 3.560e+00 1.095e+03]\n",
            " [1.267e+01 9.800e-01 2.240e+00 ... 1.230e+00 3.160e+00 4.500e+02]\n",
            " [1.316e+01 2.360e+00 2.670e+00 ... 1.030e+00 3.170e+00 1.185e+03]]\n"
          ],
          "name": "stdout"
        }
      ]
    },
    {
      "cell_type": "code",
      "metadata": {
        "colab": {
          "base_uri": "https://localhost:8080/"
        },
        "id": "2DUXeCeJvF9x",
        "outputId": "e0da8ebf-1571-4016-b2b6-1f6ef07c9b5f"
      },
      "source": [
        "wine.target[[10,80,140]]"
      ],
      "execution_count": null,
      "outputs": [
        {
          "output_type": "execute_result",
          "data": {
            "text/plain": [
              "array([0, 1, 2])"
            ]
          },
          "metadata": {
            "tags": []
          },
          "execution_count": 51
        }
      ]
    },
    {
      "cell_type": "code",
      "metadata": {
        "colab": {
          "base_uri": "https://localhost:8080/"
        },
        "id": "PArfDcx2vSnr",
        "outputId": "1bc06cff-9aa9-4bbc-8c9e-ca1b5f1ebe6a"
      },
      "source": [
        "list(wine.target_names)"
      ],
      "execution_count": null,
      "outputs": [
        {
          "output_type": "execute_result",
          "data": {
            "text/plain": [
              "['class_0', 'class_1', 'class_2']"
            ]
          },
          "metadata": {
            "tags": []
          },
          "execution_count": 52
        }
      ]
    },
    {
      "cell_type": "markdown",
      "metadata": {
        "id": "abq71YuIub_M"
      },
      "source": [
        "**Training dataset using 3 different classifiers**"
      ]
    },
    {
      "cell_type": "markdown",
      "metadata": {
        "id": "p6YK3RR7ufNE"
      },
      "source": [
        "**Decision Tree Classifier**"
      ]
    },
    {
      "cell_type": "code",
      "metadata": {
        "colab": {
          "base_uri": "https://localhost:8080/"
        },
        "id": "0APz3LqIqQR_",
        "outputId": "ec99f506-5557-49b4-d3e8-e7f508a5ba1e"
      },
      "source": [
        "from sklearn.tree import DecisionTreeClassifier\n",
        "dt = DecisionTreeClassifier()\n",
        "dt.fit(X_train, y_train)\n",
        "dt.score(X_test, y_test)"
      ],
      "execution_count": null,
      "outputs": [
        {
          "output_type": "execute_result",
          "data": {
            "text/plain": [
              "0.9074074074074074"
            ]
          },
          "metadata": {
            "tags": []
          },
          "execution_count": 53
        }
      ]
    },
    {
      "cell_type": "markdown",
      "metadata": {
        "id": "-nyVvJYIukXg"
      },
      "source": [
        "**Gaussian Naive Bayes**"
      ]
    },
    {
      "cell_type": "code",
      "metadata": {
        "colab": {
          "base_uri": "https://localhost:8080/"
        },
        "id": "iCzgsrdaquzF",
        "outputId": "f6971bf4-3a76-4e6c-df73-0e6e3ba1ba76"
      },
      "source": [
        "from sklearn.naive_bayes import GaussianNB\n",
        "gnb = GaussianNB()\n",
        "gnb.fit(X_train, y_train)\n",
        "gnb.score(X_test, y_test)\n"
      ],
      "execution_count": null,
      "outputs": [
        {
          "output_type": "execute_result",
          "data": {
            "text/plain": [
              "0.9814814814814815"
            ]
          },
          "metadata": {
            "tags": []
          },
          "execution_count": 54
        }
      ]
    },
    {
      "cell_type": "markdown",
      "metadata": {
        "id": "kaYBk4uwuoFK"
      },
      "source": [
        "**Multinomial Naive Bayes**"
      ]
    },
    {
      "cell_type": "code",
      "metadata": {
        "colab": {
          "base_uri": "https://localhost:8080/"
        },
        "id": "TJLYLwc-rUTP",
        "outputId": "b523ccf4-00d5-4d4f-ed84-d18616a7fb1f"
      },
      "source": [
        "from sklearn.naive_bayes import MultinomialNB\n",
        "mnb = MultinomialNB()\n",
        "mnb.fit(X_train, y_train)\n",
        "mnb.score(X_test, y_test)"
      ],
      "execution_count": null,
      "outputs": [
        {
          "output_type": "execute_result",
          "data": {
            "text/plain": [
              "0.8148148148148148"
            ]
          },
          "metadata": {
            "tags": []
          },
          "execution_count": 55
        }
      ]
    },
    {
      "cell_type": "markdown",
      "metadata": {
        "id": "PqXCyDfEryGi"
      },
      "source": [
        "**K-fold crosss-validation**"
      ]
    },
    {
      "cell_type": "code",
      "metadata": {
        "colab": {
          "base_uri": "https://localhost:8080/"
        },
        "id": "sUtfGs8Nr1FC",
        "outputId": "bdb783ec-514b-424a-bfd3-2666a9a43a24"
      },
      "source": [
        "from sklearn.model_selection import KFold\n",
        "kf = KFold(n_splits=3)\n",
        "kf"
      ],
      "execution_count": null,
      "outputs": [
        {
          "output_type": "execute_result",
          "data": {
            "text/plain": [
              "KFold(n_splits=3, random_state=None, shuffle=False)"
            ]
          },
          "metadata": {
            "tags": []
          },
          "execution_count": 56
        }
      ]
    },
    {
      "cell_type": "code",
      "metadata": {
        "colab": {
          "base_uri": "https://localhost:8080/"
        },
        "id": "LlyuW4nbr2_K",
        "outputId": "48833726-8ba3-4b4a-b271-fc280e760bb5"
      },
      "source": [
        "for train_index, test_index in kf.split(wine.data,wine.target):\n",
        "    print(train_index, test_index)"
      ],
      "execution_count": null,
      "outputs": [
        {
          "output_type": "stream",
          "text": [
            "[ 60  61  62  63  64  65  66  67  68  69  70  71  72  73  74  75  76  77\n",
            "  78  79  80  81  82  83  84  85  86  87  88  89  90  91  92  93  94  95\n",
            "  96  97  98  99 100 101 102 103 104 105 106 107 108 109 110 111 112 113\n",
            " 114 115 116 117 118 119 120 121 122 123 124 125 126 127 128 129 130 131\n",
            " 132 133 134 135 136 137 138 139 140 141 142 143 144 145 146 147 148 149\n",
            " 150 151 152 153 154 155 156 157 158 159 160 161 162 163 164 165 166 167\n",
            " 168 169 170 171 172 173 174 175 176 177] [ 0  1  2  3  4  5  6  7  8  9 10 11 12 13 14 15 16 17 18 19 20 21 22 23\n",
            " 24 25 26 27 28 29 30 31 32 33 34 35 36 37 38 39 40 41 42 43 44 45 46 47\n",
            " 48 49 50 51 52 53 54 55 56 57 58 59]\n",
            "[  0   1   2   3   4   5   6   7   8   9  10  11  12  13  14  15  16  17\n",
            "  18  19  20  21  22  23  24  25  26  27  28  29  30  31  32  33  34  35\n",
            "  36  37  38  39  40  41  42  43  44  45  46  47  48  49  50  51  52  53\n",
            "  54  55  56  57  58  59 119 120 121 122 123 124 125 126 127 128 129 130\n",
            " 131 132 133 134 135 136 137 138 139 140 141 142 143 144 145 146 147 148\n",
            " 149 150 151 152 153 154 155 156 157 158 159 160 161 162 163 164 165 166\n",
            " 167 168 169 170 171 172 173 174 175 176 177] [ 60  61  62  63  64  65  66  67  68  69  70  71  72  73  74  75  76  77\n",
            "  78  79  80  81  82  83  84  85  86  87  88  89  90  91  92  93  94  95\n",
            "  96  97  98  99 100 101 102 103 104 105 106 107 108 109 110 111 112 113\n",
            " 114 115 116 117 118]\n",
            "[  0   1   2   3   4   5   6   7   8   9  10  11  12  13  14  15  16  17\n",
            "  18  19  20  21  22  23  24  25  26  27  28  29  30  31  32  33  34  35\n",
            "  36  37  38  39  40  41  42  43  44  45  46  47  48  49  50  51  52  53\n",
            "  54  55  56  57  58  59  60  61  62  63  64  65  66  67  68  69  70  71\n",
            "  72  73  74  75  76  77  78  79  80  81  82  83  84  85  86  87  88  89\n",
            "  90  91  92  93  94  95  96  97  98  99 100 101 102 103 104 105 106 107\n",
            " 108 109 110 111 112 113 114 115 116 117 118] [119 120 121 122 123 124 125 126 127 128 129 130 131 132 133 134 135 136\n",
            " 137 138 139 140 141 142 143 144 145 146 147 148 149 150 151 152 153 154\n",
            " 155 156 157 158 159 160 161 162 163 164 165 166 167 168 169 170 171 172\n",
            " 173 174 175 176 177]\n"
          ],
          "name": "stdout"
        }
      ]
    },
    {
      "cell_type": "code",
      "metadata": {
        "id": "v8B2Y_rhsDc-"
      },
      "source": [
        "def get_score(model, X_train, X_test, y_train, y_test):\n",
        "    model.fit(X_train, y_train)\n",
        "    return model.score(X_test, y_test)"
      ],
      "execution_count": null,
      "outputs": []
    },
    {
      "cell_type": "code",
      "metadata": {
        "id": "IlKN4HdnsHQe"
      },
      "source": [
        "from sklearn.model_selection import StratifiedKFold\n",
        "folds = StratifiedKFold(n_splits=3)\n",
        "\n",
        "scores_dt = []\n",
        "scores_gnb = []\n",
        "scores_mnb = []\n",
        "\n",
        "for train_index, test_index in folds.split(wine.data,wine.target):\n",
        "    X_train, X_test, y_train, y_test = wine.data[train_index], wine.data[test_index], \\\n",
        "                                       wine.target[train_index], wine.target[test_index]\n",
        "    scores_dt.append(get_score(DecisionTreeClassifier(), X_train, X_test, y_train, y_test))  \n",
        "    scores_gnb.append(get_score(GaussianNB(), X_train, X_test, y_train, y_test))\n",
        "    scores_mnb.append(get_score(MultinomialNB(), X_train, X_test, y_train, y_test))"
      ],
      "execution_count": null,
      "outputs": []
    },
    {
      "cell_type": "code",
      "metadata": {
        "colab": {
          "base_uri": "https://localhost:8080/"
        },
        "id": "CU2880PCs2Mj",
        "outputId": "152f9e84-c14b-46be-ec84-2aeec5e29a1b"
      },
      "source": [
        "scores_dt"
      ],
      "execution_count": null,
      "outputs": [
        {
          "output_type": "execute_result",
          "data": {
            "text/plain": [
              "[0.9, 0.8305084745762712, 0.9152542372881356]"
            ]
          },
          "metadata": {
            "tags": []
          },
          "execution_count": 60
        }
      ]
    },
    {
      "cell_type": "code",
      "metadata": {
        "colab": {
          "base_uri": "https://localhost:8080/"
        },
        "id": "tpxrTM07s5A8",
        "outputId": "4945b33e-78ca-4bcc-9d2a-e289db0f9c21"
      },
      "source": [
        "scores_gnb"
      ],
      "execution_count": null,
      "outputs": [
        {
          "output_type": "execute_result",
          "data": {
            "text/plain": [
              "[0.95, 0.9661016949152542, 0.9661016949152542]"
            ]
          },
          "metadata": {
            "tags": []
          },
          "execution_count": 61
        }
      ]
    },
    {
      "cell_type": "code",
      "metadata": {
        "colab": {
          "base_uri": "https://localhost:8080/"
        },
        "id": "FcMnLMWKs65W",
        "outputId": "4ce2bf67-29c2-4a2d-a27c-94b4bc50825b"
      },
      "source": [
        "scores_mnb"
      ],
      "execution_count": null,
      "outputs": [
        {
          "output_type": "execute_result",
          "data": {
            "text/plain": [
              "[0.7166666666666667, 0.8135593220338984, 0.9661016949152542]"
            ]
          },
          "metadata": {
            "tags": []
          },
          "execution_count": 62
        }
      ]
    },
    {
      "cell_type": "markdown",
      "metadata": {
        "id": "rA1Bgmj_tCk5"
      },
      "source": [
        "**Cross-Validation**"
      ]
    },
    {
      "cell_type": "code",
      "metadata": {
        "id": "lhWTZ6Y-tBcI"
      },
      "source": [
        "from sklearn.model_selection import cross_val_score"
      ],
      "execution_count": null,
      "outputs": []
    },
    {
      "cell_type": "code",
      "metadata": {
        "colab": {
          "base_uri": "https://localhost:8080/"
        },
        "id": "BDhg31eItISU",
        "outputId": "9fe8bd2c-57ca-4781-fc03-e34023781d7f"
      },
      "source": [
        "cross_val_score(DecisionTreeClassifier(), wine.data, wine.target,cv=3)"
      ],
      "execution_count": null,
      "outputs": [
        {
          "output_type": "execute_result",
          "data": {
            "text/plain": [
              "array([0.95      , 0.83050847, 0.93220339])"
            ]
          },
          "metadata": {
            "tags": []
          },
          "execution_count": 64
        }
      ]
    },
    {
      "cell_type": "code",
      "metadata": {
        "colab": {
          "base_uri": "https://localhost:8080/"
        },
        "id": "Z7sb0G2atTSl",
        "outputId": "ae6cee50-6970-498d-c660-875f27784c1b"
      },
      "source": [
        "cross_val_score(GaussianNB(), wine.data, wine.target,cv=3)"
      ],
      "execution_count": null,
      "outputs": [
        {
          "output_type": "execute_result",
          "data": {
            "text/plain": [
              "array([0.95      , 0.96610169, 0.96610169])"
            ]
          },
          "metadata": {
            "tags": []
          },
          "execution_count": 65
        }
      ]
    },
    {
      "cell_type": "code",
      "metadata": {
        "colab": {
          "base_uri": "https://localhost:8080/"
        },
        "id": "gek6vXagtXTl",
        "outputId": "6733dd3a-6905-41c4-b006-d03395dc0a20"
      },
      "source": [
        "cross_val_score(MultinomialNB(), wine.data, wine.target,cv=3)"
      ],
      "execution_count": null,
      "outputs": [
        {
          "output_type": "execute_result",
          "data": {
            "text/plain": [
              "array([0.71666667, 0.81355932, 0.96610169])"
            ]
          },
          "metadata": {
            "tags": []
          },
          "execution_count": 66
        }
      ]
    },
    {
      "cell_type": "markdown",
      "metadata": {
        "id": "MPhwyCQkthOJ"
      },
      "source": [
        "**Parameter tuning using k-fold**"
      ]
    },
    {
      "cell_type": "code",
      "metadata": {
        "colab": {
          "base_uri": "https://localhost:8080/"
        },
        "id": "KJWT1rSatgxY",
        "outputId": "f0172cfc-4536-40ac-af90-aeea894ebde3"
      },
      "source": [
        "scores1 = cross_val_score(DecisionTreeClassifier(),wine.data, wine.target, cv=10)\n",
        "np.average(scores1)"
      ],
      "execution_count": null,
      "outputs": [
        {
          "output_type": "execute_result",
          "data": {
            "text/plain": [
              "0.8594771241830067"
            ]
          },
          "metadata": {
            "tags": []
          },
          "execution_count": 67
        }
      ]
    },
    {
      "cell_type": "code",
      "metadata": {
        "colab": {
          "base_uri": "https://localhost:8080/"
        },
        "id": "_1W-52C2ttKh",
        "outputId": "3787fb56-23ed-44f0-9b6a-1770bed6e154"
      },
      "source": [
        "scores2 = cross_val_score(GaussianNB(),wine.data, wine.target, cv=10)\n",
        "np.average(scores2)"
      ],
      "execution_count": null,
      "outputs": [
        {
          "output_type": "execute_result",
          "data": {
            "text/plain": [
              "0.9777777777777779"
            ]
          },
          "metadata": {
            "tags": []
          },
          "execution_count": 68
        }
      ]
    },
    {
      "cell_type": "code",
      "metadata": {
        "colab": {
          "base_uri": "https://localhost:8080/"
        },
        "id": "7QVvywsetxs_",
        "outputId": "183f7501-e94a-439b-a879-b2405d64b84f"
      },
      "source": [
        "scores3 = cross_val_score(MultinomialNB(),wine.data, wine.target, cv=10)\n",
        "np.average(scores3)"
      ],
      "execution_count": null,
      "outputs": [
        {
          "output_type": "execute_result",
          "data": {
            "text/plain": [
              "0.8496732026143791"
            ]
          },
          "metadata": {
            "tags": []
          },
          "execution_count": 69
        }
      ]
    }
  ]
}