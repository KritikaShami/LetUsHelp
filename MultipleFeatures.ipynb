{
  "nbformat": 4,
  "nbformat_minor": 0,
  "metadata": {
    "colab": {
      "name": "MultipleFeatures.ipynb",
      "provenance": [],
      "authorship_tag": "ABX9TyO18CtcHnJTEp61LVoluRU+",
      "include_colab_link": true
    },
    "kernelspec": {
      "name": "python3",
      "display_name": "Python 3"
    },
    "language_info": {
      "name": "python"
    }
  },
  "cells": [
    {
      "cell_type": "markdown",
      "metadata": {
        "id": "view-in-github",
        "colab_type": "text"
      },
      "source": [
        "<a href=\"https://colab.research.google.com/github/KritikaShami/MachineLearning/blob/main/MultipleFeatures.ipynb\" target=\"_parent\"><img src=\"https://colab.research.google.com/assets/colab-badge.svg\" alt=\"Open In Colab\"/></a>"
      ]
    },
    {
      "cell_type": "code",
      "metadata": {
        "id": "vOTGOgOT9qGr"
      },
      "source": [
        "import pandas as pd\n",
        "import numpy as np\n",
        "import matplotlib.pyplot as plt"
      ],
      "execution_count": null,
      "outputs": []
    },
    {
      "cell_type": "code",
      "metadata": {
        "id": "nhbjZQPPE5mp"
      },
      "source": [
        "feature_data = pd.read_csv('multipleFeatures.csv')"
      ],
      "execution_count": null,
      "outputs": []
    },
    {
      "cell_type": "markdown",
      "metadata": {
        "id": "OHiqHfO4FesB"
      },
      "source": [
        "**Genre:  Action: 0,  Comedy: 1,  Horror:2**\n",
        "\n",
        "**Certificate:  U/A: 0,  A: 1**\n",
        "\n",
        "**Club: 100cr:  0,  below 100cr: 1**\n",
        "\n",
        "**Social media rating:  Hit: 0,  Flop: 1**\n",
        "\n",
        "\n",
        "\n",
        "**Rating Class:  Superhit: 0,  Hit: 1,  Flop: 2**"
      ]
    },
    {
      "cell_type": "code",
      "metadata": {
        "colab": {
          "base_uri": "https://localhost:8080/"
        },
        "id": "6Obom47BFX6e",
        "outputId": "ff5455c7-bb52-4916-adc3-fa6d8c5f13e8"
      },
      "source": [
        "print(feature_data)"
      ],
      "execution_count": null,
      "outputs": [
        {
          "output_type": "stream",
          "text": [
            "    Genre  certificate  club  social media  Rating\n",
            "0       0            0     0             1       1\n",
            "1       0            0     1             0       1\n",
            "2       0            1     0             0       0\n",
            "3       1            0     0             0       1\n",
            "4       1            1     1             1       2\n",
            "5       2            0     0             0       1\n",
            "6       2            0     0             1       1\n",
            "7       2            1     1             1       1\n",
            "8       2            0     0             0       2\n",
            "9       0            1     0             0       1\n",
            "10      1            1     1             1       2\n",
            "11      2            0     1             0       1\n",
            "12      0            0     0             0       0\n",
            "13      2            1     0             1       0\n"
          ],
          "name": "stdout"
        }
      ]
    },
    {
      "cell_type": "code",
      "metadata": {
        "colab": {
          "base_uri": "https://localhost:8080/"
        },
        "id": "PGclMGrjF-bB",
        "outputId": "bbaa75ac-56cf-42be-b006-e57ec4ebd908"
      },
      "source": [
        "feature_data.shape"
      ],
      "execution_count": null,
      "outputs": [
        {
          "output_type": "execute_result",
          "data": {
            "text/plain": [
              "(14, 5)"
            ]
          },
          "metadata": {
            "tags": []
          },
          "execution_count": 4
        }
      ]
    },
    {
      "cell_type": "code",
      "metadata": {
        "colab": {
          "base_uri": "https://localhost:8080/"
        },
        "id": "8W2A7pHmf-Bw",
        "outputId": "427f0c55-58a5-46de-d80f-2d1eea85ab43"
      },
      "source": [
        "feature_data.loc[0]   #first row"
      ],
      "execution_count": null,
      "outputs": [
        {
          "output_type": "execute_result",
          "data": {
            "text/plain": [
              "Genre           0\n",
              "certificate     0\n",
              "club            0\n",
              "social media    1\n",
              "Rating          1\n",
              "Name: 0, dtype: int64"
            ]
          },
          "metadata": {
            "tags": []
          },
          "execution_count": 5
        }
      ]
    },
    {
      "cell_type": "code",
      "metadata": {
        "id": "ttDIrjY0HHGP"
      },
      "source": [
        "x = feature_data.drop('Rating', axis=1)\n",
        "#x = [[i] for i in x]\n",
        "y = list(feature_data['Rating'])"
      ],
      "execution_count": null,
      "outputs": []
    },
    {
      "cell_type": "code",
      "metadata": {
        "colab": {
          "base_uri": "https://localhost:8080/"
        },
        "id": "HpP_groagVoF",
        "outputId": "a4297702-0663-41b3-a5cc-8e0243bc89f6"
      },
      "source": [
        "print(x)"
      ],
      "execution_count": null,
      "outputs": [
        {
          "output_type": "stream",
          "text": [
            "    Genre  certificate  club  social media\n",
            "0       0            0     0             1\n",
            "1       0            0     1             0\n",
            "2       0            1     0             0\n",
            "3       1            0     0             0\n",
            "4       1            1     1             1\n",
            "5       2            0     0             0\n",
            "6       2            0     0             1\n",
            "7       2            1     1             1\n",
            "8       2            0     0             0\n",
            "9       0            1     0             0\n",
            "10      1            1     1             1\n",
            "11      2            0     1             0\n",
            "12      0            0     0             0\n",
            "13      2            1     0             1\n"
          ],
          "name": "stdout"
        }
      ]
    },
    {
      "cell_type": "code",
      "metadata": {
        "colab": {
          "base_uri": "https://localhost:8080/"
        },
        "id": "Ys-MWXxNgeit",
        "outputId": "77b346c4-508d-4033-ea1b-4d816a06a263"
      },
      "source": [
        "for i in range(x.shape[0]):\n",
        "  print(list(x.loc[i]))"
      ],
      "execution_count": null,
      "outputs": [
        {
          "output_type": "stream",
          "text": [
            "[0, 0, 0, 1]\n",
            "[0, 0, 1, 0]\n",
            "[0, 1, 0, 0]\n",
            "[1, 0, 0, 0]\n",
            "[1, 1, 1, 1]\n",
            "[2, 0, 0, 0]\n",
            "[2, 0, 0, 1]\n",
            "[2, 1, 1, 1]\n",
            "[2, 0, 0, 0]\n",
            "[0, 1, 0, 0]\n",
            "[1, 1, 1, 1]\n",
            "[2, 0, 1, 0]\n",
            "[0, 0, 0, 0]\n",
            "[2, 1, 0, 1]\n"
          ],
          "name": "stdout"
        }
      ]
    },
    {
      "cell_type": "code",
      "metadata": {
        "colab": {
          "base_uri": "https://localhost:8080/"
        },
        "id": "sgm8pLPOg3Ju",
        "outputId": "00e58a7a-2397-4b3c-be8a-72d74345df2c"
      },
      "source": [
        "x = [list(x.loc[i]) for i in range(x.shape[0])]\n",
        "print(x)"
      ],
      "execution_count": null,
      "outputs": [
        {
          "output_type": "stream",
          "text": [
            "[[0, 0, 0, 1], [0, 0, 1, 0], [0, 1, 0, 0], [1, 0, 0, 0], [1, 1, 1, 1], [2, 0, 0, 0], [2, 0, 0, 1], [2, 1, 1, 1], [2, 0, 0, 0], [0, 1, 0, 0], [1, 1, 1, 1], [2, 0, 1, 0], [0, 0, 0, 0], [2, 1, 0, 1]]\n"
          ],
          "name": "stdout"
        }
      ]
    },
    {
      "cell_type": "code",
      "metadata": {
        "id": "K66SljidhVIi"
      },
      "source": [
        ""
      ],
      "execution_count": null,
      "outputs": []
    },
    {
      "cell_type": "code",
      "metadata": {
        "colab": {
          "base_uri": "https://localhost:8080/"
        },
        "id": "1VNgen3fJCgN",
        "outputId": "41c4f3f9-d2f1-467b-c233-203f1ab9eecf"
      },
      "source": [
        "from sklearn.naive_bayes import MultinomialNB\n",
        "mnb = MultinomialNB()\n",
        "mnb.fit(x, y)"
      ],
      "execution_count": null,
      "outputs": [
        {
          "output_type": "execute_result",
          "data": {
            "text/plain": [
              "MultinomialNB(alpha=1.0, class_prior=None, fit_prior=True)"
            ]
          },
          "metadata": {
            "tags": []
          },
          "execution_count": 14
        }
      ]
    },
    {
      "cell_type": "code",
      "metadata": {
        "colab": {
          "base_uri": "https://localhost:8080/",
          "height": 100
        },
        "id": "0e0nuJRGJOIs",
        "outputId": "7877f041-201d-4d67-ed39-8c9796651314"
      },
      "source": [
        "genre = int(input('Genre: '))             #(0 : Action, 1 : Comedy, 2 : Horror)\n",
        "cert = int(input('Certificate: '))          #(0 : U/A, 1 : A)\n",
        "club = int(input('Club: '))                   #(0: 100cr, 1 : below)\n",
        "sm = int(input('Social Media Rating: '))        #(0 : Hit, 1 : Flop)\n",
        "\n",
        "\n",
        "features = ['Superhit','Hit','Flop']\n",
        "\n",
        "\n",
        "features[gnb.predict([[genre,cert,club,sm]])[0]]"
      ],
      "execution_count": null,
      "outputs": [
        {
          "output_type": "stream",
          "text": [
            "Genre: 0\n",
            "Certificate: 1\n",
            "Club: 0\n",
            "Social Media Rating: 1\n"
          ],
          "name": "stdout"
        },
        {
          "output_type": "execute_result",
          "data": {
            "application/vnd.google.colaboratory.intrinsic+json": {
              "type": "string"
            },
            "text/plain": [
              "'Superhit'"
            ]
          },
          "metadata": {
            "tags": []
          },
          "execution_count": 15
        }
      ]
    }
  ]
}