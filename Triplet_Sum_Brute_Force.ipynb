{
  "nbformat": 4,
  "nbformat_minor": 0,
  "metadata": {
    "colab": {
      "name": "Triplet Sum: Brute-Force.ipynb",
      "provenance": [],
      "authorship_tag": "ABX9TyNWr9lZoyTwuSKh7G+ToSaj",
      "include_colab_link": true
    },
    "kernelspec": {
      "name": "python3",
      "display_name": "Python 3"
    },
    "language_info": {
      "name": "python"
    }
  },
  "cells": [
    {
      "cell_type": "markdown",
      "metadata": {
        "id": "view-in-github",
        "colab_type": "text"
      },
      "source": [
        "<a href=\"https://colab.research.google.com/github/KritikaShami/MachineLearning/blob/main/Triplet_Sum_Brute_Force.ipynb\" target=\"_parent\"><img src=\"https://colab.research.google.com/assets/colab-badge.svg\" alt=\"Open In Colab\"/></a>"
      ]
    },
    {
      "cell_type": "markdown",
      "source": [
        "**Triplet Sum: Brute-Force Approach** "
      ],
      "metadata": {
        "id": "hcAN97tRLLve"
      }
    },
    {
      "cell_type": "markdown",
      "source": [
        "Input: 1,2,3,4,5,6,7 \\\n",
        "Sum: 19\\\n",
        "Output: 9"
      ],
      "metadata": {
        "id": "jtkF5YrBLVZ-"
      }
    },
    {
      "cell_type": "code",
      "source": [
        "def tripletSum(arr, sum):\n",
        "  n = len(arr)\n",
        "  count = 0\n",
        "  for i in range(n):\n",
        "    for j in range(i+1,n):\n",
        "      for k in range(i+j+1, n):\n",
        "        if arr[i] + arr[j] + arr[k] == sum:\n",
        "          count += 1\n",
        "          \n",
        "  return count"
      ],
      "metadata": {
        "id": "uDAu7S1bLTBF"
      },
      "execution_count": 7,
      "outputs": []
    },
    {
      "cell_type": "code",
      "source": [
        "input = [1,2,3,4,5,6,7,9]\n",
        "sum = 19\n",
        "tripletSum(input,sum)"
      ],
      "metadata": {
        "colab": {
          "base_uri": "https://localhost:8080/"
        },
        "id": "wTAYrFEdMcPs",
        "outputId": "1caa54c1-1059-4855-9045-84c74ed3f12c"
      },
      "execution_count": 5,
      "outputs": [
        {
          "output_type": "execute_result",
          "data": {
            "text/plain": [
              "0"
            ]
          },
          "metadata": {},
          "execution_count": 5
        }
      ]
    },
    {
      "cell_type": "code",
      "source": [
        "input2 = [2,-5, 8, -6, 0, 5, 10,11, -3]\n",
        "sum1 = 10\n",
        "tripletSum(input2,sum1)"
      ],
      "metadata": {
        "colab": {
          "base_uri": "https://localhost:8080/"
        },
        "id": "rgVbYmY7N4bl",
        "outputId": "071de1d4-59f7-4f74-ffa7-ea998a67f33e"
      },
      "execution_count": 10,
      "outputs": [
        {
          "output_type": "execute_result",
          "data": {
            "text/plain": [
              "3"
            ]
          },
          "metadata": {},
          "execution_count": 10
        }
      ]
    }
  ]
}