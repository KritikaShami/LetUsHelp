{
  "nbformat": 4,
  "nbformat_minor": 0,
  "metadata": {
    "colab": {
      "name": "Char_R.ipynb",
      "provenance": [],
      "authorship_tag": "ABX9TyPucYIouZcDK9EPu6SbBH9Q",
      "include_colab_link": true
    },
    "kernelspec": {
      "name": "python3",
      "display_name": "Python 3"
    },
    "language_info": {
      "name": "python"
    }
  },
  "cells": [
    {
      "cell_type": "markdown",
      "metadata": {
        "id": "view-in-github",
        "colab_type": "text"
      },
      "source": [
        "<a href=\"https://colab.research.google.com/github/KritikaShami/MachineLearning/blob/main/Char_R.ipynb\" target=\"_parent\"><img src=\"https://colab.research.google.com/assets/colab-badge.svg\" alt=\"Open In Colab\"/></a>"
      ]
    },
    {
      "cell_type": "code",
      "metadata": {
        "id": "VkKPGUlU3gtX"
      },
      "source": [
        "import math"
      ],
      "execution_count": null,
      "outputs": []
    },
    {
      "cell_type": "code",
      "metadata": {
        "colab": {
          "base_uri": "https://localhost:8080/"
        },
        "id": "ips15rILxtq4",
        "outputId": "faaaf7e9-c3a8-474d-8d65-2b0de9c3163c"
      },
      "source": [
        "import pandas as pd\n",
        "data = pd.read_csv('features.csv')\n",
        "print(data)"
      ],
      "execution_count": null,
      "outputs": [
        {
          "output_type": "stream",
          "text": [
            "  class  total lines  vertical  horizontal  curves\n",
            "0     A            3         2           1       0\n",
            "1     B            1         1           0       2\n",
            "2     C            0         0           0       1\n",
            "3     D            1         1           0       1\n",
            "4     E            4         1           3       0\n",
            "5     V            2         2           0       0\n",
            "6     G            2         1           1       1\n",
            "7     O            3         2           1       0\n",
            "8     R            2         1           1       1\n",
            "9     J            1         1           0       1\n"
          ],
          "name": "stdout"
        }
      ]
    },
    {
      "cell_type": "code",
      "metadata": {
        "id": "rkee8qXq2YGP"
      },
      "source": [
        "charac = data['class']\n",
        "tot_lines = data['total lines']\n",
        "ver = data['vertical']\n",
        "hor = data['horizontal']\n",
        "curve = data['curves']"
      ],
      "execution_count": null,
      "outputs": []
    },
    {
      "cell_type": "code",
      "metadata": {
        "id": "KQJuqVafLbp8"
      },
      "source": [
        "def calc_distance(A,i):\n",
        "    sum = ( (A[0]-tot_lines[i])**2 + (A[1]-ver[i])**2 + (A[2]-hor[i])**2 + (A[3]-curve[i])**2 )\n",
        "     \n",
        "    return math.sqrt(sum)\n",
        "\n",
        "    "
      ],
      "execution_count": null,
      "outputs": []
    },
    {
      "cell_type": "code",
      "metadata": {
        "colab": {
          "base_uri": "https://localhost:8080/"
        },
        "id": "c-E_NhB5L3ZV",
        "outputId": "ccb0a971-fbe0-4589-dcda-08819bc889e8"
      },
      "source": [
        "input = [2,1,1,1]    #[tot lines, vertical, horizontal, curve]\n",
        "best_char = -1\n",
        "min_dist = 999\n",
        "for i in range(data.shape[0]):\n",
        "  dist = calc_distance(input,i)\n",
        "  if(dist<min_dist):\n",
        "    min_dist = dist \n",
        "    best_char = i\n",
        "print(charac[best_char])"
      ],
      "execution_count": null,
      "outputs": [
        {
          "output_type": "stream",
          "text": [
            "G\n"
          ],
          "name": "stdout"
        }
      ]
    },
    {
      "cell_type": "code",
      "metadata": {
        "id": "PgutnfdAWbcJ",
        "colab": {
          "base_uri": "https://localhost:8080/"
        },
        "outputId": "aa3c3dda-4632-4cba-babb-220bfce67c6d"
      },
      "source": [
        "new_data = pd.read_csv('features2.csv')\n",
        "print(new_data)"
      ],
      "execution_count": null,
      "outputs": [
        {
          "output_type": "stream",
          "text": [
            "  class  total lines  vertical  ...  tilted lines  closed region  semi circle\n",
            "0     A            3         2  ...             2              1            0\n",
            "1     B            1         1  ...             0              2            2\n",
            "2     C            0         0  ...             0              0            1\n",
            "3     D            1         1  ...             0              1            1\n",
            "4     E            4         1  ...             0              0            0\n",
            "5     V            2         2  ...             2              0            0\n",
            "6     G            2         1  ...             0              0            1\n",
            "7     O            3         2  ...             0              0            2\n",
            "8     R            2         1  ...             1              1            1\n",
            "9     J            1         1  ...             0              0            0\n",
            "\n",
            "[10 rows x 8 columns]\n"
          ],
          "name": "stdout"
        }
      ]
    },
    {
      "cell_type": "code",
      "metadata": {
        "id": "VklxiOAGFRTY"
      },
      "source": [
        "charac = new_data['class']\n",
        "tot_lines = new_data['total lines']\n",
        "ver = new_data['vertical']\n",
        "hor = new_data['horizontal']\n",
        "curve = new_data['curves']\n",
        "tilted = new_data['tilted lines']\n",
        "closed = new_data['closed region']\n",
        "semi = new_data['semi circle']"
      ],
      "execution_count": null,
      "outputs": []
    },
    {
      "cell_type": "code",
      "metadata": {
        "id": "S4jMGF4tFvfV"
      },
      "source": [
        "def calc_distance2(A,i):\n",
        "    sum = ( (A[0]-tot_lines[i])**2 + (A[1]-ver[i])**2 + (A[2]-hor[i])**2 + (A[3]-curve[i])**2 + (A[4]-tilted[i])**2 + (A[5]-closed[i])**2 + (A[6]-semi[i])**2 )\n",
        "     \n",
        "    return math.sqrt(sum)"
      ],
      "execution_count": null,
      "outputs": []
    },
    {
      "cell_type": "code",
      "metadata": {
        "colab": {
          "base_uri": "https://localhost:8080/"
        },
        "id": "V4db9icJGaML",
        "outputId": "ed741e63-18b2-4ca9-a89e-9ca495842f48"
      },
      "source": [
        "input = [2,1,1,1,1,1,1]    #[tot lines, vertical, horizontal, curve,tilted, closed, semi]\n",
        "best_char = -1\n",
        "min_dist = 999\n",
        "for i in range(data.shape[0]):\n",
        "  dist = calc_distance2(input,i)\n",
        "  if(dist<min_dist):\n",
        "    min_dist = dist \n",
        "    best_char = i\n",
        "print(charac[best_char])"
      ],
      "execution_count": null,
      "outputs": [
        {
          "output_type": "stream",
          "text": [
            "R\n"
          ],
          "name": "stdout"
        }
      ]
    }
  ]
}