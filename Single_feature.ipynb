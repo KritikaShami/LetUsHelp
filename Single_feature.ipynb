{
  "nbformat": 4,
  "nbformat_minor": 0,
  "metadata": {
    "colab": {
      "name": "Single_feature.ipynb",
      "provenance": [],
      "authorship_tag": "ABX9TyN7QNB6p3YG4VeVf6eiH5qK",
      "include_colab_link": true
    },
    "kernelspec": {
      "name": "python3",
      "display_name": "Python 3"
    },
    "language_info": {
      "name": "python"
    }
  },
  "cells": [
    {
      "cell_type": "markdown",
      "metadata": {
        "id": "view-in-github",
        "colab_type": "text"
      },
      "source": [
        "<a href=\"https://colab.research.google.com/github/KritikaShami/MachineLearning/blob/main/Single_feature.ipynb\" target=\"_parent\"><img src=\"https://colab.research.google.com/assets/colab-badge.svg\" alt=\"Open In Colab\"/></a>"
      ]
    },
    {
      "cell_type": "markdown",
      "metadata": {
        "id": "XjK0S4oSSQ0k"
      },
      "source": [
        "Single feature using Gaussian Naive Bayes"
      ]
    },
    {
      "cell_type": "code",
      "metadata": {
        "id": "tTlrSWIF4lCi"
      },
      "source": [
        "import pandas as pd\n",
        "import numpy as np\n"
      ],
      "execution_count": null,
      "outputs": []
    },
    {
      "cell_type": "code",
      "metadata": {
        "id": "X7d0Q9EI4xWW"
      },
      "source": [
        "feature_data = pd.read_csv('feature_data.csv')"
      ],
      "execution_count": null,
      "outputs": []
    },
    {
      "cell_type": "markdown",
      "metadata": {
        "id": "NjMCy6-N2ZTl"
      },
      "source": [
        "**Genre:  Action : 0, Comedy : 1, Horror : 2**\n",
        "\n",
        "\n",
        "**Class:  Flop : 0, Hit : 1, Superhit : 2**"
      ]
    },
    {
      "cell_type": "code",
      "metadata": {
        "id": "G1LAa6s75Obk",
        "colab": {
          "base_uri": "https://localhost:8080/"
        },
        "outputId": "ef170343-5a7c-44c0-c251-c0102bc11ec5"
      },
      "source": [
        "print(feature_data)"
      ],
      "execution_count": null,
      "outputs": [
        {
          "output_type": "stream",
          "text": [
            "    Genre  Class\n",
            "0       0      2\n",
            "1       0      1\n",
            "2       0      2\n",
            "3       1      1\n",
            "4       1      0\n",
            "5       2      0\n",
            "6       2      1\n",
            "7       2      0\n",
            "8       2      0\n",
            "9       0      2\n",
            "10      1      1\n",
            "11      2      0\n",
            "12      0      2\n",
            "13      2      1\n"
          ],
          "name": "stdout"
        }
      ]
    },
    {
      "cell_type": "code",
      "metadata": {
        "id": "W665j4W25hxa",
        "colab": {
          "base_uri": "https://localhost:8080/"
        },
        "outputId": "1afb1bac-06d2-424e-b061-1de2c85c492e"
      },
      "source": [
        "feature_data.shape"
      ],
      "execution_count": null,
      "outputs": [
        {
          "output_type": "execute_result",
          "data": {
            "text/plain": [
              "(14, 2)"
            ]
          },
          "metadata": {
            "tags": []
          },
          "execution_count": 4
        }
      ]
    },
    {
      "cell_type": "code",
      "metadata": {
        "id": "oMO_OL9L7oTf"
      },
      "source": [
        "x = list(feature_data['Genre'])\n",
        "x = [[i] for i in x]\n",
        "\n",
        "y = list(feature_data['Class'])"
      ],
      "execution_count": null,
      "outputs": []
    },
    {
      "cell_type": "code",
      "metadata": {
        "colab": {
          "base_uri": "https://localhost:8080/"
        },
        "id": "Xa9GjlI5iID3",
        "outputId": "a24f3bc1-0bf5-4057-ecf6-5de82d529c3f"
      },
      "source": [
        "print(x)"
      ],
      "execution_count": null,
      "outputs": [
        {
          "output_type": "stream",
          "text": [
            "[[0], [0], [0], [1], [1], [2], [2], [2], [2], [0], [1], [2], [0], [2]]\n"
          ],
          "name": "stdout"
        }
      ]
    },
    {
      "cell_type": "code",
      "metadata": {
        "colab": {
          "base_uri": "https://localhost:8080/"
        },
        "id": "9IRcngNZ562c",
        "outputId": "f224086c-179a-49a7-faca-9d024c81be8a"
      },
      "source": [
        "print(y)"
      ],
      "execution_count": null,
      "outputs": [
        {
          "output_type": "stream",
          "text": [
            "[2, 1, 2, 1, 0, 0, 1, 0, 0, 2, 1, 0, 2, 1]\n"
          ],
          "name": "stdout"
        }
      ]
    },
    {
      "cell_type": "code",
      "metadata": {
        "id": "nNj1ObKpckBz"
      },
      "source": [
        "class_values = ['flop','hit','superhit']\n",
        "features_value = ['action','comedy','horror']"
      ],
      "execution_count": null,
      "outputs": []
    },
    {
      "cell_type": "code",
      "metadata": {
        "id": "WsLRuPFG70B6",
        "colab": {
          "base_uri": "https://localhost:8080/"
        },
        "outputId": "febfc546-3c98-4925-be76-841ea8bfd65b"
      },
      "source": [
        "from sklearn.naive_bayes import GaussianNB\n",
        "gnb = GaussianNB()\n",
        "gnb.fit(x, y)"
      ],
      "execution_count": null,
      "outputs": [
        {
          "output_type": "execute_result",
          "data": {
            "text/plain": [
              "GaussianNB(priors=None, var_smoothing=1e-09)"
            ]
          },
          "metadata": {
            "tags": []
          },
          "execution_count": 9
        }
      ]
    },
    {
      "cell_type": "code",
      "metadata": {
        "colab": {
          "base_uri": "https://localhost:8080/"
        },
        "id": "9g67E4ZEjHys",
        "outputId": "081f08c5-29fe-496e-9172-4d4fc5768428"
      },
      "source": [
        "for i in range(len(class_values)):\n",
        "    print(class_values[i]+' : '+features_value[gnb.predict([[i]])[0]])"
      ],
      "execution_count": null,
      "outputs": [
        {
          "output_type": "stream",
          "text": [
            "flop : horror\n",
            "hit : comedy\n",
            "superhit : action\n"
          ],
          "name": "stdout"
        }
      ]
    },
    {
      "cell_type": "code",
      "metadata": {
        "colab": {
          "base_uri": "https://localhost:8080/"
        },
        "id": "ooRLbobjm46T",
        "outputId": "241a4f77-ec05-41f2-814c-0bb8aa71995c"
      },
      "source": [
        "gnb.predict_proba([[1]])"
      ],
      "execution_count": null,
      "outputs": [
        {
          "output_type": "execute_result",
          "data": {
            "text/plain": [
              "array([[0.20785492, 0.79214508, 0.        ]])"
            ]
          },
          "metadata": {
            "tags": []
          },
          "execution_count": 11
        }
      ]
    }
  ]
}