{
  "nbformat": 4,
  "nbformat_minor": 0,
  "metadata": {
    "colab": {
      "name": "Flipkart dataset analysis.ipynb",
      "provenance": [],
      "authorship_tag": "ABX9TyMkIVcziGOvOFKW8ADW7ldG",
      "include_colab_link": true
    },
    "kernelspec": {
      "name": "python3",
      "display_name": "Python 3"
    },
    "language_info": {
      "name": "python"
    }
  },
  "cells": [
    {
      "cell_type": "markdown",
      "metadata": {
        "id": "view-in-github",
        "colab_type": "text"
      },
      "source": [
        "<a href=\"https://colab.research.google.com/github/KritikaShami/MachineLearning/blob/main/Flipkart_dataset_analysis.ipynb\" target=\"_parent\"><img src=\"https://colab.research.google.com/assets/colab-badge.svg\" alt=\"Open In Colab\"/></a>"
      ]
    },
    {
      "cell_type": "code",
      "metadata": {
        "colab": {
          "base_uri": "https://localhost:8080/",
          "height": 206
        },
        "id": "Ja686gNtkXgY",
        "outputId": "3a947309-662f-4589-9db1-f883606f41e3"
      },
      "source": [
        "import pandas as pd\n",
        "\n",
        "flipkart_data = pd.read_csv('flip.csv')\n",
        "flipkart_data.head()"
      ],
      "execution_count": 1,
      "outputs": [
        {
          "output_type": "execute_result",
          "data": {
            "text/html": [
              "<div>\n",
              "<style scoped>\n",
              "    .dataframe tbody tr th:only-of-type {\n",
              "        vertical-align: middle;\n",
              "    }\n",
              "\n",
              "    .dataframe tbody tr th {\n",
              "        vertical-align: top;\n",
              "    }\n",
              "\n",
              "    .dataframe thead th {\n",
              "        text-align: right;\n",
              "    }\n",
              "</style>\n",
              "<table border=\"1\" class=\"dataframe\">\n",
              "  <thead>\n",
              "    <tr style=\"text-align: right;\">\n",
              "      <th></th>\n",
              "      <th>Brand</th>\n",
              "      <th>Model</th>\n",
              "      <th>Color</th>\n",
              "      <th>Memory</th>\n",
              "      <th>Storage</th>\n",
              "      <th>Rating</th>\n",
              "      <th>Selling Price</th>\n",
              "      <th>Original Price</th>\n",
              "    </tr>\n",
              "  </thead>\n",
              "  <tbody>\n",
              "    <tr>\n",
              "      <th>0</th>\n",
              "      <td>OPPO</td>\n",
              "      <td>A53</td>\n",
              "      <td>Moonlight Black</td>\n",
              "      <td>4 GB</td>\n",
              "      <td>64 GB</td>\n",
              "      <td>4.5</td>\n",
              "      <td>11990.0</td>\n",
              "      <td>15990.0</td>\n",
              "    </tr>\n",
              "    <tr>\n",
              "      <th>1</th>\n",
              "      <td>OPPO</td>\n",
              "      <td>A53</td>\n",
              "      <td>Mint Cream</td>\n",
              "      <td>4 GB</td>\n",
              "      <td>64 GB</td>\n",
              "      <td>4.5</td>\n",
              "      <td>11990.0</td>\n",
              "      <td>15990.0</td>\n",
              "    </tr>\n",
              "    <tr>\n",
              "      <th>2</th>\n",
              "      <td>OPPO</td>\n",
              "      <td>A53</td>\n",
              "      <td>Moonlight Black</td>\n",
              "      <td>6 GB</td>\n",
              "      <td>128 GB</td>\n",
              "      <td>4.3</td>\n",
              "      <td>13990.0</td>\n",
              "      <td>17990.0</td>\n",
              "    </tr>\n",
              "    <tr>\n",
              "      <th>3</th>\n",
              "      <td>OPPO</td>\n",
              "      <td>A53</td>\n",
              "      <td>Mint Cream</td>\n",
              "      <td>6 GB</td>\n",
              "      <td>128 GB</td>\n",
              "      <td>4.3</td>\n",
              "      <td>13990.0</td>\n",
              "      <td>17990.0</td>\n",
              "    </tr>\n",
              "    <tr>\n",
              "      <th>4</th>\n",
              "      <td>OPPO</td>\n",
              "      <td>A53</td>\n",
              "      <td>Electric Black</td>\n",
              "      <td>4 GB</td>\n",
              "      <td>64 GB</td>\n",
              "      <td>4.5</td>\n",
              "      <td>11990.0</td>\n",
              "      <td>15990.0</td>\n",
              "    </tr>\n",
              "  </tbody>\n",
              "</table>\n",
              "</div>"
            ],
            "text/plain": [
              "  Brand Model            Color  ... Rating Selling Price  Original Price\n",
              "0  OPPO   A53  Moonlight Black  ...    4.5       11990.0         15990.0\n",
              "1  OPPO   A53       Mint Cream  ...    4.5       11990.0         15990.0\n",
              "2  OPPO   A53  Moonlight Black  ...    4.3       13990.0         17990.0\n",
              "3  OPPO   A53       Mint Cream  ...    4.3       13990.0         17990.0\n",
              "4  OPPO   A53   Electric Black  ...    4.5       11990.0         15990.0\n",
              "\n",
              "[5 rows x 8 columns]"
            ]
          },
          "metadata": {},
          "execution_count": 1
        }
      ]
    },
    {
      "cell_type": "code",
      "metadata": {
        "colab": {
          "base_uri": "https://localhost:8080/"
        },
        "id": "BDps0Le9k2X0",
        "outputId": "cbff435c-c142-4ecb-f0c4-b73b37166cd2"
      },
      "source": [
        "flipkart_data.info()"
      ],
      "execution_count": 2,
      "outputs": [
        {
          "output_type": "stream",
          "name": "stdout",
          "text": [
            "<class 'pandas.core.frame.DataFrame'>\n",
            "RangeIndex: 2647 entries, 0 to 2646\n",
            "Data columns (total 8 columns):\n",
            " #   Column          Non-Null Count  Dtype  \n",
            "---  ------          --------------  -----  \n",
            " 0   Brand           2647 non-null   object \n",
            " 1   Model           2645 non-null   object \n",
            " 2   Color           2505 non-null   object \n",
            " 3   Memory          2605 non-null   object \n",
            " 4   Storage         2568 non-null   object \n",
            " 5   Rating          2647 non-null   float64\n",
            " 6   Selling Price   2644 non-null   float64\n",
            " 7   Original Price  969 non-null    float64\n",
            "dtypes: float64(3), object(5)\n",
            "memory usage: 165.6+ KB\n"
          ]
        }
      ]
    },
    {
      "cell_type": "code",
      "metadata": {
        "id": "micSIj0fk_Xb"
      },
      "source": [
        "sp = flipkart_data['Selling Price']\n",
        "cp = flipkart_data['Original Price']"
      ],
      "execution_count": 3,
      "outputs": []
    },
    {
      "cell_type": "code",
      "metadata": {
        "colab": {
          "base_uri": "https://localhost:8080/"
        },
        "id": "Py1LSAKtlS72",
        "outputId": "acf44ff1-ed2c-46ad-e5be-8da7bf805d32"
      },
      "source": [
        "prof = cp - sp\n",
        "print(prof)"
      ],
      "execution_count": 4,
      "outputs": [
        {
          "output_type": "stream",
          "name": "stdout",
          "text": [
            "0       4000.0\n",
            "1       4000.0\n",
            "2       4000.0\n",
            "3       4000.0\n",
            "4       4000.0\n",
            "         ...  \n",
            "2642    1000.0\n",
            "2643       NaN\n",
            "2644       NaN\n",
            "2645       NaN\n",
            "2646    1500.0\n",
            "Length: 2647, dtype: float64\n"
          ]
        }
      ]
    },
    {
      "cell_type": "code",
      "metadata": {
        "colab": {
          "base_uri": "https://localhost:8080/"
        },
        "id": "dDD2einrlLBv",
        "outputId": "bd050d71-c7d5-45fc-805e-6cd6d09c7383"
      },
      "source": [
        "flipkart_data['Brand'].groupby(flipkart_data['Brand']).count().sort_values(ascending = False)"
      ],
      "execution_count": 12,
      "outputs": [
        {
          "output_type": "execute_result",
          "data": {
            "text/plain": [
              "Brand\n",
              "SAMSUNG         695\n",
              "Apple           364\n",
              "realme          285\n",
              "OPPO            244\n",
              "Nokia           212\n",
              "Xiaomi          164\n",
              "GIONEE          129\n",
              "Lenovo          121\n",
              "ASUS            113\n",
              "Motorola        105\n",
              "LG               99\n",
              "vivo             57\n",
              "Google Pixel     29\n",
              "POCO             20\n",
              "IQOO              5\n",
              "HTC               5\n",
              "Name: Brand, dtype: int64"
            ]
          },
          "metadata": {},
          "execution_count": 12
        }
      ]
    },
    {
      "cell_type": "code",
      "metadata": {
        "colab": {
          "base_uri": "https://localhost:8080/",
          "height": 295
        },
        "id": "jqIbQY-Am3fe",
        "outputId": "8ac4d1d8-6674-4a42-bc07-968ea8d1ff6d"
      },
      "source": [
        "import matplotlib.pyplot as plt\n",
        "x = []\n",
        "y = []\n",
        "for attribut in flipkart_data:\n",
        "  x.append(attribut[0])\n",
        "  y.append(attribut[4])\n",
        "\n",
        "plt.bar(x,y, width = 0.72, label = \"Price\")\n",
        "plt.xlabel('Brand')\n",
        "plt.ylabel('Selling Price')\n",
        "plt.title('Price Comparison')\n",
        "plt.legend()\n",
        "plt.show()"
      ],
      "execution_count": 41,
      "outputs": [
        {
          "output_type": "display_data",
          "data": {
            "image/png": "[encoded data removed]",
            "text/plain": [
              "<Figure size 432x288 with 1 Axes>"
            ]
          },
          "metadata": {
            "needs_background": "light"
          }
        }
      ]
    },
    {
      "cell_type": "code",
      "metadata": {
        "colab": {
          "base_uri": "https://localhost:8080/"
        },
        "id": "K9SlNVV3sV5o",
        "outputId": "4b3647fc-92b2-4c2b-b3c3-630867ae9385"
      },
      "source": [
        "most_exp = flipkart_data[['Brand','Selling Price']] [flipkart_data['Selling Price'] == flipkart_data['Selling Price'].max()]\n",
        "print(most_exp)\n"
      ],
      "execution_count": 65,
      "outputs": [
        {
          "output_type": "stream",
          "name": "stdout",
          "text": [
            "      Brand  Selling Price\n",
            "1234  Apple       179900.0\n",
            "1256  Apple       179900.0\n",
            "1352  Apple       179900.0\n",
            "1415  Apple       179900.0\n",
            "1460  Apple       179900.0\n"
          ]
        }
      ]
    },
    {
      "cell_type": "code",
      "metadata": {
        "colab": {
          "base_uri": "https://localhost:8080/"
        },
        "id": "Lgnw9Lvut_u6",
        "outputId": "a25fe14b-a1f1-4205-84f9-8b0cc2a0e07f"
      },
      "source": [
        "flipkart_data['Brand'].value_counts()"
      ],
      "execution_count": 56,
      "outputs": [
        {
          "output_type": "execute_result",
          "data": {
            "text/plain": [
              "SAMSUNG         695\n",
              "Apple           364\n",
              "realme          285\n",
              "OPPO            244\n",
              "Nokia           212\n",
              "Xiaomi          164\n",
              "GIONEE          129\n",
              "Lenovo          121\n",
              "ASUS            113\n",
              "Motorola        105\n",
              "LG               99\n",
              "vivo             57\n",
              "Google Pixel     29\n",
              "POCO             20\n",
              "IQOO              5\n",
              "HTC               5\n",
              "Name: Brand, dtype: int64"
            ]
          },
          "metadata": {},
          "execution_count": 56
        }
      ]
    },
    {
      "cell_type": "code",
      "metadata": {
        "colab": {
          "base_uri": "https://localhost:8080/",
          "height": 637
        },
        "id": "jaXLnCJ3uL5-",
        "outputId": "7e01f6ce-8ae3-473a-e200-8b50c41c81b1"
      },
      "source": [
        "mobile = flipkart_data.groupby('Brand')\n",
        "most_exp = mobile['Model','Selling Price'].max()\n",
        "most_exp"
      ],
      "execution_count": 58,
      "outputs": [
        {
          "output_type": "stream",
          "name": "stderr",
          "text": [
            "/usr/local/lib/python3.7/dist-packages/ipykernel_launcher.py:2: FutureWarning: Indexing with multiple keys (implicitly converted to a tuple of keys) will be deprecated, use a list instead.\n",
            "  \n"
          ]
        },
        {
          "output_type": "execute_result",
          "data": {
            "text/html": [
              "<div>\n",
              "<style scoped>\n",
              "    .dataframe tbody tr th:only-of-type {\n",
              "        vertical-align: middle;\n",
              "    }\n",
              "\n",
              "    .dataframe tbody tr th {\n",
              "        vertical-align: top;\n",
              "    }\n",
              "\n",
              "    .dataframe thead th {\n",
              "        text-align: right;\n",
              "    }\n",
              "</style>\n",
              "<table border=\"1\" class=\"dataframe\">\n",
              "  <thead>\n",
              "    <tr style=\"text-align: right;\">\n",
              "      <th></th>\n",
              "      <th>Selling Price</th>\n",
              "    </tr>\n",
              "    <tr>\n",
              "      <th>Brand</th>\n",
              "      <th></th>\n",
              "    </tr>\n",
              "  </thead>\n",
              "  <tbody>\n",
              "    <tr>\n",
              "      <th>ASUS</th>\n",
              "      <td>79999.0</td>\n",
              "    </tr>\n",
              "    <tr>\n",
              "      <th>Apple</th>\n",
              "      <td>179900.0</td>\n",
              "    </tr>\n",
              "    <tr>\n",
              "      <th>GIONEE</th>\n",
              "      <td>21499.0</td>\n",
              "    </tr>\n",
              "    <tr>\n",
              "      <th>Google Pixel</th>\n",
              "      <td>92000.0</td>\n",
              "    </tr>\n",
              "    <tr>\n",
              "      <th>HTC</th>\n",
              "      <td>56990.0</td>\n",
              "    </tr>\n",
              "    <tr>\n",
              "      <th>IQOO</th>\n",
              "      <td>39990.0</td>\n",
              "    </tr>\n",
              "    <tr>\n",
              "      <th>LG</th>\n",
              "      <td>60000.0</td>\n",
              "    </tr>\n",
              "    <tr>\n",
              "      <th>Lenovo</th>\n",
              "      <td>29999.0</td>\n",
              "    </tr>\n",
              "    <tr>\n",
              "      <th>Motorola</th>\n",
              "      <td>89999.0</td>\n",
              "    </tr>\n",
              "    <tr>\n",
              "      <th>Nokia</th>\n",
              "      <td>56299.0</td>\n",
              "    </tr>\n",
              "    <tr>\n",
              "      <th>OPPO</th>\n",
              "      <td>60990.0</td>\n",
              "    </tr>\n",
              "    <tr>\n",
              "      <th>POCO</th>\n",
              "      <td>20999.0</td>\n",
              "    </tr>\n",
              "    <tr>\n",
              "      <th>SAMSUNG</th>\n",
              "      <td>169999.0</td>\n",
              "    </tr>\n",
              "    <tr>\n",
              "      <th>Xiaomi</th>\n",
              "      <td>54999.0</td>\n",
              "    </tr>\n",
              "    <tr>\n",
              "      <th>realme</th>\n",
              "      <td>47999.0</td>\n",
              "    </tr>\n",
              "    <tr>\n",
              "      <th>vivo</th>\n",
              "      <td>69990.0</td>\n",
              "    </tr>\n",
              "  </tbody>\n",
              "</table>\n",
              "</div>"
            ],
            "text/plain": [
              "              Selling Price\n",
              "Brand                      \n",
              "ASUS                79999.0\n",
              "Apple              179900.0\n",
              "GIONEE              21499.0\n",
              "Google Pixel        92000.0\n",
              "HTC                 56990.0\n",
              "IQOO                39990.0\n",
              "LG                  60000.0\n",
              "Lenovo              29999.0\n",
              "Motorola            89999.0\n",
              "Nokia               56299.0\n",
              "OPPO                60990.0\n",
              "POCO                20999.0\n",
              "SAMSUNG            169999.0\n",
              "Xiaomi              54999.0\n",
              "realme              47999.0\n",
              "vivo                69990.0"
            ]
          },
          "metadata": {},
          "execution_count": 58
        }
      ]
    },
    {
      "cell_type": "code",
      "metadata": {
        "id": "svclJGxZunUN"
      },
      "source": [
        ""
      ],
      "execution_count": null,
      "outputs": []
    }
  ]
}